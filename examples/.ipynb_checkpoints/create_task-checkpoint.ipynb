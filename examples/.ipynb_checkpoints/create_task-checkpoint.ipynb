{
 "cells": [
  {
   "cell_type": "code",
   "execution_count": 1,
   "metadata": {},
   "outputs": [
    {
     "name": "stdout",
     "output_type": "stream",
     "text": [
      "Loading chipmunk for Linux (64bit) [/home/aszot/miniconda3/envs/tor/lib/python3.7/site-packages/pymunk/libchipmunk.so]\n",
      "pygame 1.9.6\n",
      "Hello from the pygame community. https://www.pygame.org/contribute.html\n"
     ]
    }
   ],
   "source": [
    "# Import `create_game` package, wherever it is located for you. \n",
    "import sys\n",
    "sys.path.insert(0, '..')\n",
    "from create_game import register_json_folder, register_json_str\n",
    "\n",
    "# Set the matplotlib settings for rendering the result video to the notebook.\n",
    "# See the comment at the bottom for more information. \n",
    "%matplotlib inline\n",
    "import matplotlib.pyplot as plt\n",
    "plt.rcParams[\"animation.html\"] = \"html5\"\n",
    "import matplotlib.animation\n",
    "import gym"
   ]
  },
  {
   "cell_type": "code",
   "execution_count": 2,
   "metadata": {},
   "outputs": [],
   "source": [
    "# Function to sample a random action\n",
    "def sample_rnd_action():\n",
    "    rnd_pos = env.action_space.spaces['pos'].sample()\n",
    "    rnd_sel = env.action_space.spaces['index'].sample()\n",
    "    return [*rnd_pos, rnd_sel]"
   ]
  },
  {
   "cell_type": "code",
   "execution_count": 3,
   "metadata": {},
   "outputs": [],
   "source": [
    "# Register your folder of .json files defining the tasks\n",
    "register_json_folder('./custom_json')"
   ]
  },
  {
   "cell_type": "code",
   "execution_count": 4,
   "metadata": {},
   "outputs": [],
   "source": [
    "# Register a string as a JSON environment\n",
    "json_str = \"\"\" {\n",
    "    \"name\": \"CustomPush2\",\n",
    "    \"lvl_type\": \"marker\",\n",
    "    \"target\": \"[0.1, -0.25 + OFFSET]\",\n",
    "    \"goal\": \"[-0.7, -0.75 + OFFSET]\",\n",
    "    \"rnd\": {\n",
    "        \"marker_ball:0\": \"[uniform(-HIGH_NOISE, HIGH_NOISE), uniform(-HIGH_NOISE, HIGH_NOISE)]\",\n",
    "        \"target,medium_floor:0\": \"[uniform(-HIGH_NOISE, HIGH_NOISE), uniform(-HIGH_NOISE, HIGH_NOISE)]\",\n",
    "        \"goal,medium_floor:1\": \"[uniform(-HIGH_NOISE, HIGH_NOISE), uniform(-HIGH_NOISE, HIGH_NOISE)]\"\n",
    "    },  \n",
    "    \"env\": [\n",
    "        {   \n",
    "            \"name\": \"marker_ball\",\n",
    "            \"pos\": [0.6, 0.75],\n",
    "            \"id\": 0\n",
    "        },  \n",
    "        {   \n",
    "            \"name\": \"medium_floor\",\n",
    "            \"pos\": \"[0.1, -0.25]\",\n",
    "            \"id\": 0\n",
    "        },  \n",
    "        {   \n",
    "            \"name\": \"medium_floor\",\n",
    "            \"pos\": \"[-0.7, -0.75]\",\n",
    "            \"id\": 1\n",
    "        }   \n",
    "    ]   \n",
    "}\n",
    "\"\"\"\n",
    "register_json_str(json_str)"
   ]
  },
  {
   "cell_type": "code",
   "execution_count": 5,
   "metadata": {},
   "outputs": [
    {
     "name": "stderr",
     "output_type": "stream",
     "text": [
      "/home/aszot/miniconda3/envs/tor/lib/python3.7/site-packages/gym/envs/registration.py:14: PkgResourcesDeprecationWarning: Parameters to load are deprecated.  Call .resolve and .require separately.\n",
      "  result = entry_point.load(False)\n",
      "/home/aszot/miniconda3/envs/tor/lib/python3.7/site-packages/matplotlib/__init__.py:886: MatplotlibDeprecationWarning: \n",
      "examples.directory is deprecated; in the future, examples will be found relative to the 'datapath' directory.\n",
      "  \"found relative to the 'datapath' directory.\".format(key))\n"
     ]
    },
    {
     "data": {
      "text/html": [
       "<video width=\"432\" height=\"288\" controls autoplay loop>\n",
       "  <source type=\"video/mp4\" src=\"data:video/mp4;base64,AAAAHGZ0eXBNNFYgAAACAGlzb21pc28yYXZjMQAAAAhmcmVlAAATmW1kYXQAAAKtBgX//6ncRem9\n",
       "5tlIt5Ys2CDZI+7veDI2NCAtIGNvcmUgMTUyIHIyODU0IGU5YTU5MDMgLSBILjI2NC9NUEVHLTQg\n",
       "QVZDIGNvZGVjIC0gQ29weWxlZnQgMjAwMy0yMDE3IC0gaHR0cDovL3d3dy52aWRlb2xhbi5vcmcv\n",
       "eDI2NC5odG1sIC0gb3B0aW9uczogY2FiYWM9MSByZWY9MyBkZWJsb2NrPTE6MDowIGFuYWx5c2U9\n",
       "MHgzOjB4MTEzIG1lPWhleCBzdWJtZT03IHBzeT0xIHBzeV9yZD0xLjAwOjAuMDAgbWl4ZWRfcmVm\n",
       "PTEgbWVfcmFuZ2U9MTYgY2hyb21hX21lPTEgdHJlbGxpcz0xIDh4OGRjdD0xIGNxbT0wIGRlYWR6\n",
       "b25lPTIxLDExIGZhc3RfcHNraXA9MSBjaHJvbWFfcXBfb2Zmc2V0PS0yIHRocmVhZHM9OSBsb29r\n",
       "YWhlYWRfdGhyZWFkcz0xIHNsaWNlZF90aHJlYWRzPTAgbnI9MCBkZWNpbWF0ZT0xIGludGVybGFj\n",
       "ZWQ9MCBibHVyYXlfY29tcGF0PTAgY29uc3RyYWluZWRfaW50cmE9MCBiZnJhbWVzPTMgYl9weXJh\n",
       "bWlkPTIgYl9hZGFwdD0xIGJfYmlhcz0wIGRpcmVjdD0xIHdlaWdodGI9MSBvcGVuX2dvcD0wIHdl\n",
       "aWdodHA9MiBrZXlpbnQ9MjUwIGtleWludF9taW49NSBzY2VuZWN1dD00MCBpbnRyYV9yZWZyZXNo\n",
       "PTAgcmNfbG9va2FoZWFkPTQwIHJjPWNyZiBtYnRyZWU9MSBjcmY9MjMuMCBxY29tcD0wLjYwIHFw\n",
       "bWluPTAgcXBtYXg9NjkgcXBzdGVwPTQgaXBfcmF0aW89MS40MCBhcT0xOjEuMDAAgAAAC99liIQA\n",
       "Ev/+963fgU3AQO1rulc4tMurlDQ9UfaUpni2SAAAAwADjh6zXRyJfw5M1zAJ+BeeKnM6PUQ0RC3d\n",
       "+OiuES+0xBtMWNqKFOPhYwAA8qZ/bajx/jSUFsoE6HrCW3Fh16Fq1PtNPaLnltT0TckEEQaj+Ugf\n",
       "wb7qjWEqKQnzO/nNtoLfldYSezOI2h9yMqzul1XLrmOQKLCWBo375gvycRw9y7o+0pNyIVnOUZxI\n",
       "tcuITYyUUb1SMARV1iaA74bCAY48M7ZPp+vjTH30Tbd7dis8+1n1wHDiJMb3LWvjOP4zU4n4VFpU\n",
       "DUucwtDRepVb+8qIjbwrvnj+V0+V1Ilpwwy0e8inj/Nt1jEAIxtbmE29xB1B/W6Ut+XKZHX0CTxh\n",
       "TNHZXDosr8v/sDKkc8blpf5wnRUwn/urOavOs1je11RUo3Ep4Np3SaIGkV4IwSonksTNcBT9fPQe\n",
       "5Yg1cVckI21tRcLGltL4jAEOZwetTJbOsFi4FpOqjhiAKvxx9weAo8Zd3u245w4M4Hat3RMUZSsv\n",
       "ejOUk+hk5ldmfihMbaWf/2/gKhhslxNDYJ0BLcDBgRhtex6iBoAp6knHxOolAHJAlFAuD8NO9HFq\n",
       "tMUCdT6Vtcrpct6GGe9eK+5cRZ+SNKg8EyygH0MsDOBO+GCDa2A6aLUMWj31aVDrMsrlKzosVbQS\n",
       "2I73J6x6JRFm8ABLKZrASiHeW6hOeSuYjT4WziZwSH3vPMZGwoJ18ACEMSpkGYFsmvYtOBTpTzSN\n",
       "VuSS43LphAmqUws1MBfDOYVCjPoEEjevMl77WEcx6sShcAp7k3ZwilR/HnwVT0eEffYny7RSm8lS\n",
       "NXRRslUZNS1kRUg1vgbqk+8WTo1/rVUTFli30mQMbxu5C+W9w8XOLjwVE96ttKY9LqDbRAAAZPNH\n",
       "fePb0vUL27CEmkWzCOR1y9hHHUtcV+aI09FNgZG71C4Ro8/hSm+63Mx38hSQJxLYzzdej6n5eScu\n",
       "hpwbGShw5U6rxuyJemBuyb4+Wllw3YNgAJNkTJR2CilFnP5WG0BoIHZLNxHrXvRC29wv9ubBp5AB\n",
       "f5/xcyH0iGuhoMxdqs0E0XfdvYHcUGcQDN42fnWc/+FH9HZ8FbDzWQJP041v8o7liftRhzF85RwS\n",
       "B80+tK8o49tvGpJsnnS8A3bQP+0StpSVpTO8cvtvEnUaUPC4ieeW4NdTNaUgCgZomR6nkn3NC0z2\n",
       "Hfkdgo/1vv67c8syfjGKbmJ8yiH7uLsb37PWw6HzHEz3b3DcWeR8teml1xUA2edGP9jWUAGUACcd\n",
       "FWVvWW/rA5frLeuiF+jPZlEp+jjdfeCy1zm/lUh0DiGbIF+7ToUuezpP1y+GGs/U3x420bw4yEjC\n",
       "lnFSzM70UoNsKRpRG3+ywbu8tDWPMY64fYN7hJdJ1KEW9UfZtb5/VDZRFvIpWinUqzdGPJPzUPtX\n",
       "rbzwJtryi9FGbE9X13IOaPhuIxM22o8GBHSLotUCd03tLCUebv8Q/e3rQWKz1ki5jew7FHxk9luH\n",
       "zE6sh6Ui/iMV4ZjLpXGQKtm5v/Rcf0nxExasZxLoFlIbzZo7GNzmsei1uyj89TxoQh0KemC3BSeK\n",
       "PqmU/oBiTXMBioA7pYQSffe1//o3SL18jyJ89aG4oOlKBHAbkmJoYt5GnqH3My2ng2SnO6g36ytQ\n",
       "iEGUrGUy4PtSYU1eOKbqBLHy+GZewmV0s5y4/jOzGEOs7MJeMKZY2OFbrC3XNu5Tk9Prj/FtpMXD\n",
       "VOaiJdELLeNM575T3jPy/OVVcgb3PIn4rxdJ6EEciGyJLbLWTcXZfFQCeV4iLvndW+VjSpN/cFqM\n",
       "tkzk6GpO00pZge0j7I4XRRbBRpmHH0BScDf4joj3xKeRCSDQa1uUo7rNwlFAhiCNiNiPR4q7SOyM\n",
       "e44wBMrPRcxeWfXMiMiWW7ZfSJA1Jbdrivxy8v0WDB8WcPL1SVegcG6aZa/7ImwgqOLPMt54bDC7\n",
       "l8zboTxLg5iaPNtxYn4xrBorooUFDXkqguXfiTaMkTAt3ieNzjnKWh9TEGh2F9nygnWcQFKDW7/6\n",
       "n503Kv5U/T8hAIotlYD4k4Lsj+a58oo9u/SVKLenalCaPfJLEZG1PnRVWo9AEw4peQLA2T+y/ZaZ\n",
       "KuYrJ6fl98yi0MJEU4fXvE3GN4eTYP4POjjD64PnCx5yPo7I4LAtfLwWpgqmRNKuvbj2yaFY1KMv\n",
       "972UgddMg4whJD9MK8ExsvKqRiz9k1Z3dRTDqwXNWsEoQ4Mm+LF4A99EaHfS7BceDhjURyQKNXeB\n",
       "/mZKgsyJNfh6pqZYeY2bYfIkqEIc17v21if8sdP5Jx4eeDTQvG5kLkwOCk+r2CKaR+hRlKS0Rhz7\n",
       "pJZiFhaUfcXOUuEzW5UoKFVyC1Mp2/ud7ihkIila9PUYmgc5ZCcmg9EufcNb/KrUJ8rS6/OMcua4\n",
       "+mX6DDVdiKd8vVZHv9DhD/OPkaAF+3w1yLJRBuFuOWRD0+B6rBTiksDDoqbgOJhNei5pKykdqeVe\n",
       "rZCfsHbyAC9XClZJUcUqcOk1WavyfjFE0/TJfwjXh0NTDa4PiFl6sUk3J621RKgJy1+bFl+Bo2gn\n",
       "GDpKG9ABt78NYgUm7iAq+5T1bOJ/SIp93ZPfX5GJ98gfn0DwJQjD7UXGT8i5oTjpI49JynNyeFKP\n",
       "mL9KkaMIlCqC9hrO0+9yS7rc/QIf5rDgGfT+YGb3eyhQtFpzM9P8Rgm1/tzjAN/Fhz9v4W2a5ujd\n",
       "Y0FfcvPNBjoryKB9E6gDhfdeHOVeVneu/4uFLuiWvWcOvY/4jKGlQzR0Pg2j3GvjALya1NO3J/qa\n",
       "4AL3eUn4EM8ww3EWa+vVR2xAdGM6QYO65vQpUBrx0dl8iM7eud3/Z0wQS/GRk9FzA6TCxGjSdrCv\n",
       "CeLYm65yE5YAcqkfb8fzo68iVh1Fl9WQPzMATdou/w72FeMyVutURNPGxwnVB/KutpJCFxPKC9Ab\n",
       "v712UJomxwcMpU6uBW8mg+65lRocIzaxLFUJDjErz+iWmuS/LoYGD78AB9Rpy78m9nVvDNCifXdd\n",
       "ljUfe34QkXh0SV+HHDzJU/Az7ZTpxxXIpyMGqSyxo2vn6mRrRAdtEJO7gfw2G2sboa+qwChjUBrm\n",
       "KSPVlHkmjOPunsJYFAmxgrnydU+vsC8BIzwsbFsjA/y8NQiT2RfFr8HrnTuVv97TnXI7oNyGN+dt\n",
       "2wZRvkRKQ9NPSygcfy9X43+VLlqrSTR9NDREWPbbNBGiEvf0uUJ0hFI6LsjEBqEMHpeUcyv+oiHF\n",
       "TTnfY7HAIUzjX/2xtVoOSK0O6PZLNxTitmQm2l3eE8ONc1C1Bw6iHdR3z0E++M7yRYz7NuXcJDi/\n",
       "mx7YLBpKouEcLKoOD66a7zEuZ5T7htH+O6EQzycl7r7gjgshG/6sACj91zJE039jj0P2Jz4couxa\n",
       "4HX7FRdohfIOo+FwvScIJ74qmsscA5046wJQBRIXA2zHTfQUeagg7+QS94euYehjze/opNau/nmQ\n",
       "u6YPmCBjkMK13SNRFx49Wi/u6GCM0Mu4coFIBTW3gtOBYP4XCNNSTCQL+cLPnKfFLgGEe3ej7EPK\n",
       "VqqG1KKrYWUFkFgSBLaX62aZzTcC6l/zxYNayOH4RI0rw6ldGsMqdMzWbV9hC7NV+fBvQIGwDYhY\n",
       "dkzWZ9vNjgZHJ0Do5Ify1X881ha1Ab/BdSuPgkYEzOfCBUAidpcrtd4Bv/ZDvYSXXOo336DkaID3\n",
       "PCsfipBTHuejuLQd+E5gxroPhO+sG7FEc/XhHKIIuuwzELshTZmwG1GEIRyUJ0E3L2kHO4H5giSa\n",
       "tVOJ7GjgSE3cYgE+e4/SCtPVY850kGzyuTpZoTfegV0t/ih4+Gdk8MjAN7AUnnHCZsqDJGLnMGmv\n",
       "j4O2y1V1QCXHFgtfHUdCrEBcR3i+giwEHsPuGpgunN6+1SccPtKshDpT4iv2n2n7vtOyJR5gWQ42\n",
       "LXpXCkaPmtYa0NmGbcBIei/Q7rFXVx8976iejC18guQ3QLck4hRYTimo6Tm1GpJJw8es4tvE+L5l\n",
       "6P3A/1z7AAF/lvUCPMEAAAFqQZoibEEf/rUqgAxnx8yV3X4l1XA38Nq2TABO30VG5yfTdovF+YNN\n",
       "58Q0aBkbuzyT3RdTLNmX2OCl1rAa2bDf5oUcQdVXNLI7GLh535SuS4YjUX0DSlsyJKKwCCS56t8I\n",
       "jZmlpoPwrq2aMvmYMF2iQ/EVE3uI+wWVNDgJOUy7IEo/tLJ4Tu89Qtisdjbv694obx0E3E180Hyg\n",
       "Ceds4omVKjAulcoQTt8rbGRj7k+hE+igpze8BD9LTdl23mlL6IHu2ZqHrBtkVFGQUCjAVyIIV330\n",
       "2Bx8G0t9wNuT4sWg3vHxgEyOIw3+m6VdFNXJvvQXB9nauMU0JJa+M4pPxma1C1wvEqqFSbh1RWDB\n",
       "FtVLpA7+WIWUbMrWj7Rd+U1xxDA/Mn7mKapk/W5amfanBhLks2OB2zx6BpObN7hojOoCPACgwCxv\n",
       "QWIBLipfvNW/FS1hyA6Txzg+690cqSfyspvugvzMl0HZ5F4VpMsAAABvAZ5BeQ//ACGtGkUhyATP\n",
       "vQr4ASzbZCkdLGjMxymoOcTEB3WK0Zf2dcxYhALESTCEpIhxOcmK9WVf2bxvgJDqqcfy8tvEP8kp\n",
       "WnkiLWdtts9VTm/uZmchww7VUmxzw/1+10ARqDLPLrv6ggZs496/AAABAUGaQzwhkymEEf/+tSqA\n",
       "Axnx8yV3X4l1XA38NgGmACdvouzIf6eWrHKTWabdC0HE9EiuzW9PeyHAfLNmX2OCjVy96F67sKfq\n",
       "2ZaND8UiisJE01dvAoK7iXOOvtwTxJRinBaUCnukdzkf4v66CkpDJyUERptDAdP5WTN9BgMbOGJd\n",
       "hj36t3Ok23GHZMI9QuS5dFP0lJ9nVHs7LmYRC82Zqe69hOhLAYMrZIKHLT+E19pAVKJao7LcScSL\n",
       "rRymUz38ju2uG09rin2RSaou2uBgzabYXATnBRfjD7IOyRHIYLVe1ca0hsja6mueaCFPbNEslIkB\n",
       "s7ro7dzw+ZN5LylUvcTcAAAA8EGaZEnhDyZTAgj//rUqgADGfHzJXd86jj4Pk00FkLkJTSX/D9AB\n",
       "EH0rK1MTx1jxkLfasrqUZFOmvMIXhv3MBl09raGCcrkiQ6P0oWDQe9mXSJ1sJ8Fnitk8Z6D6SBYi\n",
       "Zr+znjV1707Haj9Sgr9u8NneBpLJO0Ux90uraexf1V2POvr2g0T5SbnklmjY0knubF+osQvumDHO\n",
       "eQ56BMxoUO9Dd1rbFIEswjskm/lnHzx5VEPFHBRWJqT8+1UFQKmznur/yClc3jIGexqmzC4SnMM/\n",
       "wcK0c0LQprS4WoX+KE85Sn5c9E+lhxXrb+YuDH/H6QAAAPZBmoVJ4Q8mUwIIf/6qVQAAMZ71KyXk\n",
       "u9dbJgcpO13+8CxtYATMrKVfm6q3Zv7stL0i+V/d/O21pUFE7VoOI0AXqz+sMF3o359qKmv2bICP\n",
       "HB2rwDBRV9jLFW64LJNC2Zp+YAaosMIcC1jxf6VHhM3+e9LYyh6wet5x3NFq4pZI+YzP6GTNIuhf\n",
       "ZcZYcoJvvO00Xl5Z0Xd/xnJ1hGNjwajh3RgiDH1ojmwMaGSIX6VM82q8QBzuYEuuI7kfbnhP3j9p\n",
       "EdjENyALYOwHJlXuWhv4il2AXvubOWqFc9xFYYePyA6ehvu129PDyDm69H0T63VsxWysGjEAAAAl\n",
       "QZqmSeEPJlMCH//+qZYAABgvdKOaL93oLo/pJQoK9s7TIwL/lwAAA2ptb292AAAAbG12aGQAAAAA\n",
       "AAAAAAAAAAAAAAPoAAAFeAABAAABAAAAAAAAAAAAAAAAAQAAAAAAAAAAAAAAAAAAAAEAAAAAAAAA\n",
       "AAAAAAAAAEAAAAAAAAAAAAAAAAAAAAAAAAAAAAAAAAAAAAAAAAACAAAClHRyYWsAAABcdGtoZAAA\n",
       "AAMAAAAAAAAAAAAAAAEAAAAAAAAFeAAAAAAAAAAAAAAAAAAAAAAAAQAAAAAAAAAAAAAAAAAAAAEA\n",
       "AAAAAAAAAAAAAAAAAEAAAAABsAAAASAAAAAAACRlZHRzAAAAHGVsc3QAAAAAAAAAAQAABXgAABAA\n",
       "AAEAAAAAAgxtZGlhAAAAIG1kaGQAAAAAAAAAAAAAAAAAACgAAAA4AFXEAAAAAAAtaGRscgAAAAAA\n",
       "AAAAdmlkZQAAAAAAAAAAAAAAAFZpZGVvSGFuZGxlcgAAAAG3bWluZgAAABR2bWhkAAAAAQAAAAAA\n",
       "AAAAAAAAJGRpbmYAAAAcZHJlZgAAAAAAAAABAAAADHVybCAAAAABAAABd3N0YmwAAACzc3RzZAAA\n",
       "AAAAAAABAAAAo2F2YzEAAAAAAAAAAQAAAAAAAAAAAAAAAAAAAAABsAEgAEgAAABIAAAAAAAAAAEA\n",
       "AAAAAAAAAAAAAAAAAAAAAAAAAAAAAAAAAAAAAAAAAAAY//8AAAAxYXZjQwFkABX/4QAYZ2QAFazZ\n",
       "QbCWhAAAAwAEAAADACg8WLZYAQAGaOvjyyLAAAAAHHV1aWRraEDyXyRPxbo5pRvPAyPzAAAAAAAA\n",
       "ABhzdHRzAAAAAAAAAAEAAAAHAAAIAAAAABRzdHNzAAAAAAAAAAEAAAABAAAAMGN0dHMAAAAAAAAA\n",
       "BAAAAAEAABAAAAAAAQAAGAAAAAABAAAIAAAAAAQAABAAAAAAHHN0c2MAAAAAAAAAAQAAAAEAAAAH\n",
       "AAAAAQAAADBzdHN6AAAAAAAAAAAAAAAHAAAOlAAAAW4AAABzAAABBQAAAPQAAAD6AAAAKQAAABRz\n",
       "dGNvAAAAAAAAAAEAAAAsAAAAYnVkdGEAAABabWV0YQAAAAAAAAAhaGRscgAAAAAAAAAAbWRpcmFw\n",
       "cGwAAAAAAAAAAAAAAAAtaWxzdAAAACWpdG9vAAAAHWRhdGEAAAABAAAAAExhdmY1Ny44My4xMDA=\n",
       "\">\n",
       "  Your browser does not support the video tag.\n",
       "</video>"
      ],
      "text/plain": [
       "<matplotlib.animation.FuncAnimation at 0x7f3263effe48>"
      ]
     },
     "execution_count": 5,
     "metadata": {},
     "output_type": "execute_result"
    },
    {
     "data": {
      "image/png": "[encoded data removed]",
      "text/plain": [
       "<Figure size 432x288 with 1 Axes>"
      ]
     },
     "metadata": {
      "needs_background": "light"
     },
     "output_type": "display_data"
    }
   ],
   "source": [
    "env = gym.make('CreateLevelCustomPush2-v0')\n",
    "\n",
    "obs = env.reset()\n",
    "\n",
    "done = False\n",
    "frames = []\n",
    "while not done:\n",
    "    action = sample_rnd_action()\n",
    "    obs, reward, done, info = env.step(action)\n",
    "    frame = env.render('rgb_array_high_mega_changed_colors')\n",
    "    frames.append(frame)\n",
    "    \n",
    "def update(i):\n",
    "    ax.imshow(frames[i])\n",
    "\n",
    "fig, ax = plt.subplots()\n",
    "\n",
    "# Render the frames array to the screen. \n",
    "# If this doesn't work you can try another way from this StackOverflow thread: \n",
    "# https://stackoverflow.com/questions/35532498/animation-in-ipython-notebook\n",
    "ani = matplotlib.animation.FuncAnimation(fig, update, frames=len(frames))\n",
    "ani"
   ]
  }
 ],
 "metadata": {
  "kernelspec": {
   "display_name": "Python [conda env:tor] *",
   "language": "python",
   "name": "conda-env-tor-py"
  },
  "language_info": {
   "codemirror_mode": {
    "name": "ipython",
    "version": 3
   },
   "file_extension": ".py",
   "mimetype": "text/x-python",
   "name": "python",
   "nbconvert_exporter": "python",
   "pygments_lexer": "ipython3",
   "version": "3.7.3"
  }
 },
 "nbformat": 4,
 "nbformat_minor": 2
}
