{
 "cells": [
  {
   "cell_type": "code",
   "execution_count": null,
   "metadata": {},
   "outputs": [],
   "source": [
    "# Import `create_game` package, wherever it is located for you. \n",
    "import sys\n",
    "sys.path.insert(0, '..')\n",
    "from create_game import register_json_folder, register_json_str\n",
    "\n",
    "# Set the matplotlib settings for rendering the result video to the notebook.\n",
    "# See the comment at the bottom for more information. \n",
    "%matplotlib inline\n",
    "import matplotlib.pyplot as plt\n",
    "plt.rcParams[\"animation.html\"] = \"html5\"\n",
    "import matplotlib.animation\n",
    "import gym"
   ]
  },
  {
   "cell_type": "code",
   "execution_count": null,
   "metadata": {},
   "outputs": [],
   "source": [
    "# Function to sample a random action\n",
    "def sample_rnd_action():\n",
    "    rnd_pos = env.action_space.spaces['pos'].sample()\n",
    "    rnd_sel = env.action_space.spaces['index'].sample()\n",
    "    return [*rnd_pos, rnd_sel]"
   ]
  },
  {
   "cell_type": "code",
   "execution_count": null,
   "metadata": {},
   "outputs": [],
   "source": [
    "# Register your folder of .json files defining the tasks\n",
    "register_json_folder('./custom_json')"
   ]
  },
  {
   "cell_type": "code",
   "execution_count": null,
   "metadata": {},
   "outputs": [],
   "source": [
    "# Register a string as a JSON environment\n",
    "json_str = \"\"\" {\n",
    "    \"name\": \"CustomPush2\",\n",
    "    \"lvl_type\": \"marker\",\n",
    "    \"target\": \"[0.1, -0.25 + OFFSET]\",\n",
    "    \"goal\": \"[-0.7, -0.75 + OFFSET]\",\n",
    "    \"rnd\": {\n",
    "        \"marker_ball:0\": \"[uniform(-HIGH_NOISE, HIGH_NOISE), uniform(-HIGH_NOISE, HIGH_NOISE)]\",\n",
    "        \"target,medium_floor:0\": \"[uniform(-HIGH_NOISE, HIGH_NOISE), uniform(-HIGH_NOISE, HIGH_NOISE)]\",\n",
    "        \"goal,medium_floor:1\": \"[uniform(-HIGH_NOISE, HIGH_NOISE), uniform(-HIGH_NOISE, HIGH_NOISE)]\"\n",
    "    },  \n",
    "    \"env\": [\n",
    "        {   \n",
    "            \"name\": \"marker_ball\",\n",
    "            \"pos\": [0.6, 0.75],\n",
    "            \"id\": 0\n",
    "        },  \n",
    "        {   \n",
    "            \"name\": \"medium_floor\",\n",
    "            \"pos\": \"[0.1, -0.25]\",\n",
    "            \"id\": 0\n",
    "        },  \n",
    "        {   \n",
    "            \"name\": \"medium_floor\",\n",
    "            \"pos\": \"[-0.7, -0.75]\",\n",
    "            \"id\": 1\n",
    "        }   \n",
    "    ]   \n",
    "}\n",
    "\"\"\"\n",
    "register_json_str(json_str)"
   ]
  },
  {
   "cell_type": "code",
   "execution_count": null,
   "metadata": {},
   "outputs": [],
   "source": [
    "env = gym.make('CreateLevelCustomPush2-v0')\n",
    "\n",
    "obs = env.reset()\n",
    "\n",
    "done = False\n",
    "frames = []\n",
    "while not done:\n",
    "    action = sample_rnd_action()\n",
    "    obs, reward, done, info = env.step(action)\n",
    "    frame = env.render('rgb_array_high_mega_changed_colors')\n",
    "    frames.append(frame)\n",
    "    \n",
    "def update(i):\n",
    "    ax.imshow(frames[i])\n",
    "\n",
    "fig, ax = plt.subplots()\n",
    "\n",
    "# Render the frames array to the screen. \n",
    "# If this doesn't work you can try another way from this StackOverflow thread: \n",
    "# https://stackoverflow.com/questions/35532498/animation-in-ipython-notebook\n",
    "ani = matplotlib.animation.FuncAnimation(fig, update, frames=len(frames))\n",
    "ani"
   ]
  }
 ],
 "metadata": {
  "kernelspec": {
   "display_name": "Python [conda env:tor] *",
   "language": "python",
   "name": "conda-env-tor-py"
  },
  "language_info": {
   "codemirror_mode": {
    "name": "ipython",
    "version": 3
   },
   "file_extension": ".py",
   "mimetype": "text/x-python",
   "name": "python",
   "nbconvert_exporter": "python",
   "pygments_lexer": "ipython3",
   "version": "3.7.3"
  }
 },
 "nbformat": 4,
 "nbformat_minor": 2
}
